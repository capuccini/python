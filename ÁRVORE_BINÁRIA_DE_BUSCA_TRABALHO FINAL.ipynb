{
  "nbformat": 4,
  "nbformat_minor": 0,
  "metadata": {
    "colab": {
      "name": "ÁRVORE BINÁRIA DE BUSCA.ipynb",
      "provenance": [],
      "collapsed_sections": []
    },
    "kernelspec": {
      "name": "python3",
      "display_name": "Python 3"
    },
    "language_info": {
      "name": "python"
    }
  },
  "cells": [
    {
      "cell_type": "code",
      "execution_count": 131,
      "metadata": {
        "id": "hTtPR8vv3htQ"
      },
      "outputs": [],
      "source": [
        ""
      ]
    },
    {
      "cell_type": "markdown",
      "source": [
        "# Método representativo da árvore binária"
      ],
      "metadata": {
        "id": "qPJROBhzLQGP"
      }
    },
    {
      "cell_type": "code",
      "source": [
        "class NodoArvore:\n",
        "    def __init__(self, chave=None, value=None, esquerda=None, direita=None):\n",
        "        self.chave = chave\n",
        "        self.esquerda = esquerda\n",
        "        self.direita = direita\n",
        "\n",
        "    def __repr__(self):\n",
        "        return '%s <- %s -> %s' % (self.esquerda and self.esquerda.chave,\n",
        "                                    self.chave,\n",
        "                                    self.direita and self.direita.chave)"
      ],
      "metadata": {
        "id": "ayjrWUS33j1s"
      },
      "execution_count": 132,
      "outputs": []
    },
    {
      "cell_type": "code",
      "source": [
        ""
      ],
      "metadata": {
        "id": "Cbd3L7Nm3j9s"
      },
      "execution_count": 132,
      "outputs": []
    },
    {
      "cell_type": "markdown",
      "source": [
        "# Criar \"NODOS\" das árvores "
      ],
      "metadata": {
        "id": "irddwn3KLZkS"
      }
    },
    {
      "cell_type": "code",
      "source": [
        "raiz = NodoArvore(4)\n",
        "raiz.esquerda = NodoArvore(9)\n",
        "raiz.direita  = NodoArvore(1)\n",
        "print(\"Árvore: \", raiz)"
      ],
      "metadata": {
        "colab": {
          "base_uri": "https://localhost:8080/"
        },
        "id": "qnPHUXMs3kCO",
        "outputId": "ed7b7982-59b0-4a3d-dada-5232bd31d639"
      },
      "execution_count": 133,
      "outputs": [
        {
          "output_type": "stream",
          "name": "stdout",
          "text": [
            "Árvore:  9 <- 4 -> 1\n"
          ]
        }
      ]
    },
    {
      "cell_type": "code",
      "source": [
        ""
      ],
      "metadata": {
        "id": "lB3CKni03kHU"
      },
      "execution_count": 133,
      "outputs": []
    },
    {
      "cell_type": "markdown",
      "source": [
        "# Construção da árvore binária de pesquisa"
      ],
      "metadata": {
        "id": "mRqmTQgTLur1"
      }
    },
    {
      "cell_type": "code",
      "source": [
        ""
      ],
      "metadata": {
        "id": "GH0boD_ULt5X"
      },
      "execution_count": 133,
      "outputs": []
    },
    {
      "cell_type": "code",
      "source": [
        "raiz = NodoArvore(90)\n",
        "\n",
        "raiz.esquerda = NodoArvore(45)\n",
        "raiz.direita  = NodoArvore(76)\n",
        "\n",
        "raiz.direita.esquerda  = NodoArvore(56)\n",
        "raiz.direita.direita   = NodoArvore(34)\n",
        "raiz.esquerda.esquerda = NodoArvore(66)\n",
        "raiz.esquerda.direita  = NodoArvore(87)"
      ],
      "metadata": {
        "id": "nWGdXHWi3kVW"
      },
      "execution_count": 134,
      "outputs": []
    },
    {
      "cell_type": "code",
      "source": [
        ""
      ],
      "metadata": {
        "id": "NL007Kbf30wb"
      },
      "execution_count": 134,
      "outputs": []
    },
    {
      "cell_type": "markdown",
      "source": [
        "# Caminhamento a esquerda"
      ],
      "metadata": {
        "id": "oep5ltAlL_MX"
      }
    },
    {
      "cell_type": "code",
      "source": [
        "def em_ordem(raiz):\n",
        "    if not raiz:\n",
        "        return\n",
        "\n",
        "    # Visita filho da esquerda.\n",
        "    em_ordem(raiz.esquerda)\n",
        "\n",
        "    # Visita nodo corrente.\n",
        "    print(raiz.chave),\n",
        "\n",
        "    "
      ],
      "metadata": {
        "id": "ydr8VeWP301l"
      },
      "execution_count": 135,
      "outputs": []
    },
    {
      "cell_type": "code",
      "source": [
        "em_ordem(raiz)"
      ],
      "metadata": {
        "colab": {
          "base_uri": "https://localhost:8080/"
        },
        "id": "h0UP3YKA3064",
        "outputId": "a205bbd7-a6fc-497f-ddbc-cc0add61190a"
      },
      "execution_count": 136,
      "outputs": [
        {
          "output_type": "stream",
          "name": "stdout",
          "text": [
            "66\n",
            "45\n",
            "90\n"
          ]
        }
      ]
    },
    {
      "cell_type": "code",
      "source": [
        ""
      ],
      "metadata": {
        "id": "2CUzVHCj4ELE"
      },
      "execution_count": 136,
      "outputs": []
    },
    {
      "cell_type": "code",
      "source": [
        ""
      ],
      "metadata": {
        "id": "ZH47WoHmKsaa"
      },
      "execution_count": 136,
      "outputs": []
    },
    {
      "cell_type": "markdown",
      "source": [
        "# Caminhamento a direita"
      ],
      "metadata": {
        "id": "GxkG1rDYKs0s"
      }
    },
    {
      "cell_type": "code",
      "source": [
        "def em_ordem(raiz):\n",
        "    if not raiz:\n",
        "        return\n",
        "\n",
        "# Visita nodo corrente.\n",
        "    print(raiz.chave),\n",
        "\n",
        "# Visita filho da direita.\n",
        "    em_ordem(raiz.direita)\n",
        "\n"
      ],
      "metadata": {
        "id": "2St6vp6i4ESa"
      },
      "execution_count": 137,
      "outputs": []
    },
    {
      "cell_type": "code",
      "source": [
        "em_ordem(raiz)"
      ],
      "metadata": {
        "colab": {
          "base_uri": "https://localhost:8080/"
        },
        "id": "adzhbFZoFGOO",
        "outputId": "c62d120e-a536-4014-e481-5849632c470b"
      },
      "execution_count": 138,
      "outputs": [
        {
          "output_type": "stream",
          "name": "stdout",
          "text": [
            "90\n",
            "76\n",
            "34\n"
          ]
        }
      ]
    },
    {
      "cell_type": "code",
      "source": [
        ""
      ],
      "metadata": {
        "id": "mjMQUN5qpAY0"
      },
      "execution_count": 138,
      "outputs": []
    },
    {
      "cell_type": "code",
      "source": [
        ""
      ],
      "metadata": {
        "id": "-Ol4sn-As4Je"
      },
      "execution_count": 138,
      "outputs": []
    },
    {
      "cell_type": "markdown",
      "source": [
        "# Outro método de implementação"
      ],
      "metadata": {
        "id": "6xj_WRS1A8t_"
      }
    },
    {
      "cell_type": "code",
      "source": [
        ""
      ],
      "metadata": {
        "id": "RszLP7Xks4RP"
      },
      "execution_count": 138,
      "outputs": []
    },
    {
      "cell_type": "code",
      "source": [
        "from __future__ import print_function\n",
        "\n",
        "\n",
        "class BSTNode(object):\n",
        "\n",
        "    def __init__(self, key, value=None, left=None, right=None):\n",
        "        self.key = key\n",
        "        self.value = value\n",
        "        self.left = left\n",
        "        self.right = right\n",
        "     \n",
        "    def get(self, key):\n",
        "        \"\"\"Retorna uma referência ao nó de chave key\n",
        "        \"\"\"\n",
        "        if self.key == key:\n",
        "            return self\n",
        "        node = self.left if key < self.key else self.right\n",
        "        if node is not None:\n",
        "            return node.get(key)\n",
        "\n",
        "    def add(self, key):\n",
        "        \"\"\"Adiciona elemento à subárvore\n",
        "        \"\"\"\n",
        "        side = 'left' if key < self.key else 'right'\n",
        "        node = getattr(self, side)\n",
        "        if node is None:\n",
        "            setattr(self, side, BSTNode(key))\n",
        "        else:\n",
        "            node.add(key)\n",
        "    \n",
        "    def remove(self, key):\n",
        "        \"\"\"Remove da árvore o elemento de chave key\n",
        "        \"\"\"\n",
        "        if key < self.key:\n",
        "            self.left = self.left.remove(key)\n",
        "        elif key > self.key:\n",
        "            self.right = self.right.remove(key)\n",
        "        else:\n",
        "            if self.right is None:\n",
        "                return self.left\n",
        "            if self.left is None:\n",
        "                return self.right\n",
        "            t = self.right._min()\n",
        "            self.key, self.value = t.key, t.value\n",
        "            self.right._deleteMin()\n",
        "        return self\n",
        "    \n",
        "    def _min(self):\n",
        "        \"\"\"Retorna o menor elemento da subárvore\n",
        "        \"\"\"\n",
        "        if self.left is None:\n",
        "            return self\n",
        "        else:\n",
        "            return self.left._min()\n",
        "    \n",
        "    def _deleteMin(self):\n",
        "        \"\"\"Remove da subárvore o menor elemento\n",
        "        \"\"\"\n",
        "        if self.left is None:  # encontrou o min, daí pode rearranjar\n",
        "            return self.right\n",
        "        self.left = self.left._deleteMin()\n",
        "        return self\n",
        "\n",
        "    def traverse(self, visit, order='pre'):\n",
        "        \"\"\"Percorre a árvore na ordem fornecida como parâmetro (pre, pos ou in) \n",
        "           visitando os nós com a função visit() recebida como parâmetro.\n",
        "        \"\"\"\n",
        "        if order == 'pre':\n",
        "            visit(self.key)\n",
        "        if self.left is not None:\n",
        "            self.left.traverse(visit, order)\n",
        "        if order == 'in':\n",
        "            visit(self.key)\n",
        "        if self.right is not None:\n",
        "            self.right.traverse(visit, order)\n",
        "        if order == 'post':\n",
        "            visit(self.key)\n",
        "\n",
        "    def print(self, order='pre'):\n",
        "        self.traverse(print, order)\n",
        "\n",
        "\n",
        "if __name__ == '__main__':\n",
        "    tree = BSTNode(90)\n",
        "    tree.add(11)\n",
        "    tree.add(32)\n",
        "    tree.add(43)\n",
        "    tree.add(56)\n",
        "    tree.add(23)\n",
        "    tree.add(43)\n",
        "    tree.add(54)\n",
        "    tree.print()\n",
        "    \n",
        "    "
      ],
      "metadata": {
        "colab": {
          "base_uri": "https://localhost:8080/"
        },
        "id": "Ppn6fAwKqkeQ",
        "outputId": "fe519b7a-ea11-4f7f-92a9-a905c4f9f441"
      },
      "execution_count": 139,
      "outputs": [
        {
          "output_type": "stream",
          "name": "stdout",
          "text": [
            "90\n",
            "11\n",
            "32\n",
            "23\n",
            "43\n",
            "56\n",
            "43\n",
            "54\n"
          ]
        }
      ]
    },
    {
      "cell_type": "code",
      "source": [
        "tree.remove(54)\n",
        "tree.print()"
      ],
      "metadata": {
        "colab": {
          "base_uri": "https://localhost:8080/"
        },
        "id": "rhA7vBFzqktT",
        "outputId": "b50c3e12-91b1-472b-f745-d75936833fd9"
      },
      "execution_count": 140,
      "outputs": [
        {
          "output_type": "stream",
          "name": "stdout",
          "text": [
            "90\n",
            "11\n",
            "32\n",
            "23\n",
            "43\n",
            "56\n",
            "43\n"
          ]
        }
      ]
    },
    {
      "cell_type": "markdown",
      "source": [
        "# Para outros metodos pedididos, é só chamar a função."
      ],
      "metadata": {
        "id": "ibCJ79BCAtFk"
      }
    }
  ]
}