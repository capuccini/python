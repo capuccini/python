{
  "nbformat": 4,
  "nbformat_minor": 0,
  "metadata": {
    "colab": {
      "name": "ÁRVORE BINÁRIA DE BUSCA.ipynb",
      "provenance": [],
      "collapsed_sections": []
    },
    "kernelspec": {
      "name": "python3",
      "display_name": "Python 3"
    },
    "language_info": {
      "name": "python"
    }
  },
  "cells": [
    {
      "cell_type": "code",
      "execution_count": 119,
      "metadata": {
        "id": "hTtPR8vv3htQ"
      },
      "outputs": [],
      "source": [
        ""
      ]
    },
    {
      "cell_type": "markdown",
      "source": [
        "# Método representativo da árvore binária"
      ],
      "metadata": {
        "id": "qPJROBhzLQGP"
      }
    },
    {
      "cell_type": "code",
      "source": [
        "class NodoArvore:\n",
        "    def __init__(self, chave=None, value=None, esquerda=None, direita=None):\n",
        "        self.chave = chave\n",
        "        self.esquerda = esquerda\n",
        "        self.direita = direita\n",
        "\n",
        "    def __repr__(self):\n",
        "        return '%s <- %s -> %s' % (self.esquerda and self.esquerda.chave,\n",
        "                                    self.chave,\n",
        "                                    self.direita and self.direita.chave)"
      ],
      "metadata": {
        "id": "ayjrWUS33j1s"
      },
      "execution_count": 120,
      "outputs": []
    },
    {
      "cell_type": "code",
      "source": [
        ""
      ],
      "metadata": {
        "id": "Cbd3L7Nm3j9s"
      },
      "execution_count": 120,
      "outputs": []
    },
    {
      "cell_type": "markdown",
      "source": [
        "# Criar \"NODOS\" das árvores "
      ],
      "metadata": {
        "id": "irddwn3KLZkS"
      }
    },
    {
      "cell_type": "code",
      "source": [
        "raiz = NodoArvore(3)\n",
        "raiz.esquerda = NodoArvore(5)\n",
        "raiz.direita  = NodoArvore(1)\n",
        "print(\"Árvore: \", raiz)"
      ],
      "metadata": {
        "colab": {
          "base_uri": "https://localhost:8080/"
        },
        "id": "qnPHUXMs3kCO",
        "outputId": "acbe066f-612f-4ebd-8629-1c16d54e8615"
      },
      "execution_count": 121,
      "outputs": [
        {
          "output_type": "stream",
          "name": "stdout",
          "text": [
            "Árvore:  5 <- 3 -> 1\n"
          ]
        }
      ]
    },
    {
      "cell_type": "code",
      "source": [
        ""
      ],
      "metadata": {
        "id": "lB3CKni03kHU"
      },
      "execution_count": 121,
      "outputs": []
    },
    {
      "cell_type": "markdown",
      "source": [
        "# Construção da árvore binária de pesquisa"
      ],
      "metadata": {
        "id": "mRqmTQgTLur1"
      }
    },
    {
      "cell_type": "code",
      "source": [
        ""
      ],
      "metadata": {
        "id": "GH0boD_ULt5X"
      },
      "execution_count": 121,
      "outputs": []
    },
    {
      "cell_type": "code",
      "source": [
        "raiz = NodoArvore(40)\n",
        "\n",
        "raiz.esquerda = NodoArvore(20)\n",
        "raiz.direita  = NodoArvore(60)\n",
        "\n",
        "raiz.direita.esquerda  = NodoArvore(50)\n",
        "raiz.direita.direita   = NodoArvore(70)\n",
        "raiz.esquerda.esquerda = NodoArvore(10)\n",
        "raiz.esquerda.direita  = NodoArvore(30)"
      ],
      "metadata": {
        "id": "nWGdXHWi3kVW"
      },
      "execution_count": 122,
      "outputs": []
    },
    {
      "cell_type": "code",
      "source": [
        ""
      ],
      "metadata": {
        "id": "NL007Kbf30wb"
      },
      "execution_count": 122,
      "outputs": []
    },
    {
      "cell_type": "markdown",
      "source": [
        "# Caminhamento a esquerda"
      ],
      "metadata": {
        "id": "oep5ltAlL_MX"
      }
    },
    {
      "cell_type": "code",
      "source": [
        "def em_ordem(raiz):\n",
        "    if not raiz:\n",
        "        return\n",
        "\n",
        "    # Visita filho da esquerda.\n",
        "    em_ordem(raiz.esquerda)\n",
        "\n",
        "    # Visita nodo corrente.\n",
        "    print(raiz.chave),\n",
        "\n",
        "    "
      ],
      "metadata": {
        "id": "ydr8VeWP301l"
      },
      "execution_count": 123,
      "outputs": []
    },
    {
      "cell_type": "code",
      "source": [
        "em_ordem(raiz)"
      ],
      "metadata": {
        "colab": {
          "base_uri": "https://localhost:8080/"
        },
        "id": "h0UP3YKA3064",
        "outputId": "cd75d168-1464-41cd-b994-5e380e59b4b6"
      },
      "execution_count": 124,
      "outputs": [
        {
          "output_type": "stream",
          "name": "stdout",
          "text": [
            "10\n",
            "20\n",
            "40\n"
          ]
        }
      ]
    },
    {
      "cell_type": "code",
      "source": [
        ""
      ],
      "metadata": {
        "id": "2CUzVHCj4ELE"
      },
      "execution_count": 124,
      "outputs": []
    },
    {
      "cell_type": "code",
      "source": [
        ""
      ],
      "metadata": {
        "id": "ZH47WoHmKsaa"
      },
      "execution_count": 124,
      "outputs": []
    },
    {
      "cell_type": "markdown",
      "source": [
        "# Caminhamento a direita"
      ],
      "metadata": {
        "id": "GxkG1rDYKs0s"
      }
    },
    {
      "cell_type": "code",
      "source": [
        "def em_ordem(raiz):\n",
        "    if not raiz:\n",
        "        return\n",
        "\n",
        "# Visita nodo corrente.\n",
        "    print(raiz.chave),\n",
        "\n",
        "# Visita filho da direita.\n",
        "    em_ordem(raiz.direita)\n",
        "\n"
      ],
      "metadata": {
        "id": "2St6vp6i4ESa"
      },
      "execution_count": 125,
      "outputs": []
    },
    {
      "cell_type": "code",
      "source": [
        "em_ordem(raiz)"
      ],
      "metadata": {
        "colab": {
          "base_uri": "https://localhost:8080/"
        },
        "id": "adzhbFZoFGOO",
        "outputId": "76db75ba-10d5-4e96-be80-862973571665"
      },
      "execution_count": 126,
      "outputs": [
        {
          "output_type": "stream",
          "name": "stdout",
          "text": [
            "40\n",
            "60\n",
            "70\n"
          ]
        }
      ]
    },
    {
      "cell_type": "code",
      "source": [
        ""
      ],
      "metadata": {
        "id": "mjMQUN5qpAY0"
      },
      "execution_count": 126,
      "outputs": []
    },
    {
      "cell_type": "code",
      "source": [
        ""
      ],
      "metadata": {
        "id": "-Ol4sn-As4Je"
      },
      "execution_count": 126,
      "outputs": []
    },
    {
      "cell_type": "markdown",
      "source": [
        "# Outro método de implementação"
      ],
      "metadata": {
        "id": "6xj_WRS1A8t_"
      }
    },
    {
      "cell_type": "code",
      "source": [
        ""
      ],
      "metadata": {
        "id": "RszLP7Xks4RP"
      },
      "execution_count": 126,
      "outputs": []
    },
    {
      "cell_type": "code",
      "source": [
        "from __future__ import print_function\n",
        "\n",
        "\n",
        "class BSTNode(object):\n",
        "\n",
        "    def __init__(self, key, value=None, left=None, right=None):\n",
        "        self.key = key\n",
        "        self.value = value\n",
        "        self.left = left\n",
        "        self.right = right\n",
        "     \n",
        "    def get(self, key):\n",
        "        \"\"\"Retorna uma referência ao nó de chave key\n",
        "        \"\"\"\n",
        "        if self.key == key:\n",
        "            return self\n",
        "        node = self.left if key < self.key else self.right\n",
        "        if node is not None:\n",
        "            return node.get(key)\n",
        "\n",
        "    def add(self, key):\n",
        "        \"\"\"Adiciona elemento à subárvore\n",
        "        \"\"\"\n",
        "        side = 'left' if key < self.key else 'right'\n",
        "        node = getattr(self, side)\n",
        "        if node is None:\n",
        "            setattr(self, side, BSTNode(key))\n",
        "        else:\n",
        "            node.add(key)\n",
        "    \n",
        "    def remove(self, key):\n",
        "        \"\"\"Remove da árvore o elemento de chave key\n",
        "        \"\"\"\n",
        "        if key < self.key:\n",
        "            self.left = self.left.remove(key)\n",
        "        elif key > self.key:\n",
        "            self.right = self.right.remove(key)\n",
        "        else:\n",
        "            if self.right is None:\n",
        "                return self.left\n",
        "            if self.left is None:\n",
        "                return self.right\n",
        "            t = self.right._min()\n",
        "            self.key, self.value = t.key, t.value\n",
        "            self.right._deleteMin()\n",
        "        return self\n",
        "    \n",
        "    def _min(self):\n",
        "        \"\"\"Retorna o menor elemento da subárvore\n",
        "        \"\"\"\n",
        "        if self.left is None:\n",
        "            return self\n",
        "        else:\n",
        "            return self.left._min()\n",
        "    \n",
        "    def _deleteMin(self):\n",
        "        \"\"\"Remove da subárvore o menor elemento\n",
        "        \"\"\"\n",
        "        if self.left is None:  # encontrou o min, daí pode rearranjar\n",
        "            return self.right\n",
        "        self.left = self.left._deleteMin()\n",
        "        return self\n",
        "\n",
        "    def traverse(self, visit, order='pre'):\n",
        "        \"\"\"Percorre a árvore na ordem fornecida como parâmetro (pre, pos ou in) \n",
        "           visitando os nós com a função visit() recebida como parâmetro.\n",
        "        \"\"\"\n",
        "        if order == 'pre':\n",
        "            visit(self.key)\n",
        "        if self.left is not None:\n",
        "            self.left.traverse(visit, order)\n",
        "        if order == 'in':\n",
        "            visit(self.key)\n",
        "        if self.right is not None:\n",
        "            self.right.traverse(visit, order)\n",
        "        if order == 'post':\n",
        "            visit(self.key)\n",
        "\n",
        "    def print(self, order='pre'):\n",
        "        self.traverse(print, order)\n",
        "\n",
        "\n",
        "if __name__ == '__main__':\n",
        "    tree = BSTNode(90)\n",
        "    tree.add(11)\n",
        "    tree.add(32)\n",
        "    tree.add(43)\n",
        "    tree.add(56)\n",
        "    tree.add(23)\n",
        "    tree.add(43)\n",
        "    tree.add(54)\n",
        "    tree.print()\n",
        "    \n",
        "    "
      ],
      "metadata": {
        "colab": {
          "base_uri": "https://localhost:8080/"
        },
        "id": "Ppn6fAwKqkeQ",
        "outputId": "3eebdc1c-d4a9-4309-febd-b0d60a25d948"
      },
      "execution_count": 130,
      "outputs": [
        {
          "output_type": "stream",
          "name": "stdout",
          "text": [
            "90\n",
            "11\n",
            "32\n",
            "23\n",
            "43\n",
            "56\n",
            "43\n",
            "54\n"
          ]
        }
      ]
    },
    {
      "cell_type": "code",
      "source": [
        "tree.remove(54)\n",
        "tree.print()"
      ],
      "metadata": {
        "id": "rhA7vBFzqktT"
      },
      "execution_count": null,
      "outputs": []
    },
    {
      "cell_type": "markdown",
      "source": [
        "# Para outros metodos pedididos, é só chamar a função."
      ],
      "metadata": {
        "id": "ibCJ79BCAtFk"
      }
    }
  ]
}